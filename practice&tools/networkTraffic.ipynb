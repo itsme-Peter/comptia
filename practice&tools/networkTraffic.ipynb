{
 "cells": [
  {
   "cell_type": "markdown",
   "metadata": {},
   "source": [
    "tcpdump is a cli tool used to capture packets \n",
    "basic command\n",
    "> tcpdump -i eth0 -v \n",
    "\n",
    "filters\n",
    "- i - interface\n",
    "- net 192.168.100.0/24 - from specific subnet\n",
    "- host - either destination or source\n",
    "- src - source\n",
    "- dst - destination\n",
    "- port(src port, dst port) - port\n",
    "- c 50 - count \n",
    "- len 50-100 - length of packet\n",
    "- any protocol\n",
    "- w - writing to a file\n",
    "- r - reading from a file\n",
    "- tttt - human readable timestamp\n",
    "- n - prevent from resolving ip to hostname and name resolution\n",
    "- s - capture snap len per packet\n",
    "\n",
    "\n",
    "joining filters\n",
    "- and\n",
    "- or \n",
    "- not\n",
    "\n",
    "> tcpdump -i eth0 dst 192.168.100.160 and src 172.1.1.1 or port 80 or port 443 and not icmp -w ./try.pcap\n",
    "\n",
    "> tcpdump -i eth0 'host 192.168.100.160 or dst 192.168.100.160' and 'port 80 or port 443'"
   ]
  },
  {
   "cell_type": "markdown",
   "metadata": {},
   "source": [
    "#### Man in the middle capture attack with ettercap\n",
    "Using ettercap to spoof the arp table changing the mac addresses\n",
    "options\n",
    "- T / G for cli and graphical\n",
    "- i - interface\n",
    "- M - MiTm\n",
    "- q - quiet mode\n",
    "- P - to use plugins\n",
    "- F - to apply filters \n",
    "- w - writing captured data\n",
    "- S - ssl/tls stripping ** do not forge SSL certificates\n",
    "- \n",
    "> ettercap -T -S -i eth0 -M arp:remote /gateway// /target//\n"
   ]
  },
  {
   "cell_type": "markdown",
   "metadata": {},
   "source": [
    "#### Creating, sending packets using Scapy\n",
    "when performing network reconnaisance and packet sniffing and analysing, how can one develop toools with python\n",
    "\n",
    "Scapy - packet manipulation tool and network protocol development\n",
    "- It allows you to create, capture, send, and manipulate network packets at a very granular level. \n",
    "\n",
    "filters\n",
    "- port\n",
    "- protocol - tcp,udp,icmp, arp\n",
    "- host , dst, src\n",
    "- specific interface - inbound, outbound\n",
    "- combining - and, or, not\n",
    "- mac addr - ether host mac\n",
    "\n",
    "Packet creation\n",
    "This creates an ICMP packet \n",
    "> send(IP(src='192.168.100.162', dst='192.168.100.1',ttl=10)/ICMP(type=8,code=0)/\"HELLO WORLD\")\n",
    "\n",
    "Sniffing packets\n",
    "> sniff(iface=\"eth0\",prn=lambda x:x.summary)\n",
    "\n",
    "dos\n",
    "send(IP(src='192.168.100.34',dst='192.168.100.1')/TCP(sport=80,dport=80),count=100000)\n",
    "\n",
    "\n"
   ]
  },
  {
   "cell_type": "markdown",
   "metadata": {},
   "source": [
    "### Hping \n",
    "Can be used to scan networks and perform dos attacks \n",
    "this performs a ping\n",
    "options\n",
    "- -1 - ICMP\n",
    "- --fast/faster - more pings\n",
    "- c - count\n",
    "- flood \n",
    "- a - spoofing ip addr\n",
    "- rand-source - multiple addresses\n",
    "\n",
    "\n",
    "> hping3 192.168.100.1\n",
    "\n",
    "scanning an ip\n",
    "> hping3 --scan 192.168.100.1 1-100 -S -V\n",
    "\n",
    "flooding\n",
    "> hping3 192.168.100.1 --flood --rand-source --data 10000\n",
    "\n",
    "### DOS\n",
    "#### Ping Flood DOS Attack\n",
    "Flooding a server with ping requests(ICMP echo requests)\n",
    "> hping3 -1 --faster 192.168.100.160\n",
    "\n",
    "#### SYN Flood DOS Attack\n"
   ]
  },
  {
   "cell_type": "code",
   "execution_count": null,
   "metadata": {},
   "outputs": [],
   "source": [
    "from scapy.all import Ether, IP, sendp, Raw, ICMP\n",
    "\n",
    "# Create an Ethernet frame with custom source and destination MAC addresses and does not get a reply\n",
    "# eth = Ether(src='00:11:22:33:44:55', dst='d4:8a:11:58:74:ef')\n",
    "def sendingPacket():\n",
    "    eth = Ether(src='08:00:27:f9:b7:c4', dst='70:fd:45:b6:21:d6')\n",
    "\n",
    "    # Create an IP packet\n",
    "    ip = IP(dst=\"192.168.100.1\", src=\"192.168.100.160\",ttl=10)\n",
    "\n",
    "    # embending message\n",
    "    message = \"This is a hidden message\"\n",
    "    m = Raw(load=message.encode())\n",
    "\n",
    "    # Combine the Ethernet frame and IP packet(type,8-request,0-reply)\n",
    "    packet = eth / ip / ICMP(type=8,code=0) / m\n",
    "\n",
    "    # Display the packet\n",
    "    print(packet.summary())\n",
    "\n",
    "    # Send the packet\n",
    "    sendp(packet,iface=\"eth0\")\n",
    "    return\n",
    "\n",
    "def sniffing():\n",
    "    pass\n",
    "\n"
   ]
  },
  {
   "cell_type": "markdown",
   "metadata": {},
   "source": [
    "Host discovery,port scanning,banner grabbing,traceroute,os fingerprinting,dns enumeration, SNMP enumeration, vulnerability scanningarp scanningidentifying protocl and services,wireless network analysis, Identifying Rogue Access Points,SSL/TLS Handshake Analysis,Network Traffic Analysis,VoIP (Voice over IP) Traffic Analysis,DNS Zone Transfer,DHCP Request and Response Analysis,Proxy Detection,Network Protocol Identification,Passive OS Fingerprinting,ICMP Redirect Analysis,Network Traffic Replay,IP Geolocation,DNS Enumeration with Subdomains, using scappy in one file"
   ]
  },
  {
   "cell_type": "code",
   "execution_count": 4,
   "metadata": {},
   "outputs": [
    {
     "name": "stdout",
     "output_type": "stream",
     "text": [
      "(42, b'ab', 3.140000104904175)\n"
     ]
    }
   ],
   "source": [
    "import struct\n",
    "\n",
    "# Define a format string\n",
    "format_string = \"i 2s f\"\n",
    "\n",
    "# Create binary data\n",
    "binary_data = struct.pack(format_string, 42, b'ab', 3.14)\n",
    "\n",
    "# Unpack binary data\n",
    "unpacked_data = struct.unpack(format_string, binary_data)\n",
    "\n",
    "print(unpacked_data)\n"
   ]
  },
  {
   "cell_type": "markdown",
   "metadata": {},
   "source": []
  }
 ],
 "metadata": {
  "kernelspec": {
   "display_name": "Python 3",
   "language": "python",
   "name": "python3"
  },
  "language_info": {
   "codemirror_mode": {
    "name": "ipython",
    "version": 3
   },
   "file_extension": ".py",
   "mimetype": "text/x-python",
   "name": "python",
   "nbconvert_exporter": "python",
   "pygments_lexer": "ipython3",
   "version": "3.10.11"
  }
 },
 "nbformat": 4,
 "nbformat_minor": 2
}
