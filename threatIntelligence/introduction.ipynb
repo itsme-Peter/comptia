{
 "cells": [
  {
   "cell_type": "markdown",
   "metadata": {},
   "source": [
    "# Cyber Threat Intelligence(CTI)\n",
    "\n",
    "Threat Intelligence is evidence-based information about cyber attacks that cyber security experts organize and analyze. This information may include:\n",
    "\n",
    "- Mechanisms of an attack\n",
    "- How to identify that an attack is happening\n",
    "- Ways different types of attacks might affect the business\n",
    "- Action-oriented advice about how to defend against attacks \n",
    "\n",
    "\n",
    "### Types of CTI\n",
    "* Strategic\n",
    "    - High level information that puts the threat in context\n",
    "    - eg, How a business decision might make the organization vulnerable to cyber attacks. \n",
    "\n",
    "* Tactical\n",
    "    - How threats are being carried out and defended against\n",
    "        - Attack vendors and tools\n",
    "        - Type of business/technology used\n",
    "    \n",
    "    - Helps understand how likely they are to be targeted\n",
    "    - Used to make informed decisions about security controls and managing defenses.\n",
    "\n",
    "* Operational \n",
    "    - It is information about the intent behind the attack, as well as the nature and timing of the attack. \n",
    "    - Ideally, this information is gathered directly from the attackers, which makes it difficult to obtain.\n",
    "\n",
    "* Technical\n",
    "    - Specific evidence that an attack is happening or indicators of compromise (IOCs). \n",
    "    - Uses AI to scan through the organisations resources\n",
    "\n",
    " \n"
   ]
  }
 ],
 "metadata": {
  "kernelspec": {
   "display_name": "Python 3",
   "language": "python",
   "name": "python3"
  },
  "language_info": {
   "name": "python",
   "version": "3.10.11"
  }
 },
 "nbformat": 4,
 "nbformat_minor": 2
}
