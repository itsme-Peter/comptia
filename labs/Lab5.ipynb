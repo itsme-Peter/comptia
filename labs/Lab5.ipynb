{
 "cells": [
  {
   "cell_type": "markdown",
   "metadata": {},
   "source": [
    "### Objectives\n",
    "Given a scenario, analyze potential indicators to determine the type of attack."
   ]
  },
  {
   "cell_type": "markdown",
   "metadata": {},
   "source": [
    "#### Disable Windows Defender\n",
    "This will Leave the server vulnerable to malware\n",
    "\n",
    "1. Select the MS1 VM, at the login screen, in the Password box, type Pa$$w0rd and press ENTER.\n",
    "2. Select Start, and right-click Windows PowerShell and select Run as Administrator.\n",
    "- UAC(User Account Control) warning will pop up\n",
    "3. Type the following command, then press ENTER\n",
    "> Set-MpPreference -DisableRealTimeMonitoring $True\n",
    "- This PowerShell cmdlet disables Windows Defender online scanning.\n",
    "\n",
    "Close the windows powershell\n"
   ]
  },
  {
   "cell_type": "markdown",
   "metadata": {},
   "source": [
    "#### Install program from Odysseus.iso\n",
    "Install it with u thinking its a legit software\n",
    "1. Select ODYSSEUS to load the ISO image in the current VM.\n",
    "2. In the MS1 VM window, click the notification and then select Run setup.exe (it may take up to one minute for the notification to appear).\n",
    "3. The installer runs silently, with no visible window. When installation is complete, you will see two new icons on the desktop. Open either of the SimpleHash or SimpleSalter shortcuts from the desktop.\n",
    "4. Close the window"
   ]
  },
  {
   "cell_type": "markdown",
   "metadata": {},
   "source": [
    "### Identify System Changes\n",
    "The program seems to have installed two innocuous utilities. Use Task Manager to identify unauthorized system changes.\n",
    "1. Right-click the taskbar and select Task Manager. If necessary, select More details to view the full interface. Inspect the list of processes. Can you spot anything unusual?\n",
    "2. What process seems suspicious?\n",
    "    - RDP Clipboard Monitor\n",
    "    - ncat (32 bit)\n",
    "    - Spooler SubSystem App\n",
    "    - Microsoft OneDrive (32 bit)\n",
    "\n",
    "3. ![image](../images/lab4/netcat.png) [image](../images/lab4/netcat.png)\n",
    "4. ![image](../images/lab4/malware.png) [image](../images/lab4/malware.png)\n"
   ]
  },
  {
   "cell_type": "markdown",
   "metadata": {},
   "source": [
    "### Identify Network Ports\n",
    "![images](../images/lab4/pic7.png) [images](../images/lab4/pic7.png)\n",
    "#### Angry ip scan preferences setting for the ports [image](../images/lab4/angryIp1.png)\n",
    "![image](../images/lab4/pic10.png) [image](../images/lab4/pic10.png)\n",
    "\n",
    "![image](../images/lab4/angryresults.png) [image](../images/lab4/angryresults.png)\n",
    "\n",
    "- 80—HTTP.\n",
    "- 135, 139, 445—RPC/NetBIOS/SMB.\n",
    "- 25, 143, 587—email (SMTP, IMAP, and SMTP).\n"
   ]
  },
  {
   "cell_type": "markdown",
   "metadata": {},
   "source": [
    "### Testing Backdoor\n",
    "To connect to the backdoor on MS1, you will use a terminal emulation client called PuTTY\n",
    "1. On the DC1 VM, double-click the PuTTY icon in the LABFILES folder.\n",
    "#### Putty configurations\n",
    "2. ![image](../images/lab4/pic14.png)\n",
    "3. Run the following command to create a user account named mal on the remote server:\n",
    "> net user /add mal Pa$$w0rd\n",
    "- Score confirm if it worked\n",
    "4. Run the following command to add the mal user to the local administrators group:\n",
    "> net localgroup administrators mal /add\n",
    "- Score confirm if it worked\n"
   ]
  },
  {
   "cell_type": "markdown",
   "metadata": {},
   "source": [
    "### Block Backdoor\n",
    "![images](../images/lab4/pic18.png) [images](../images/lab4/pic18.png)\n",
    "\n",
    "#### Open ini.vbs and select edit\n",
    "- This script launches netcat and creates a firewall rule to allow connections to it over port 4450. [image](../images/lab4/pic19.png)\n",
    "- Close and delete the file\n",
    "- Open Task Manager\n",
    "- Select the Processes tab in Task Manager, and then right-click on the ncat (32 bit) process and select End task.\n",
    "- Close task Manager\n",
    "- Select Start then type \n",
    "```firewall with advanced security ``` and open the ````Windows Defender Firewall with Advanced Security ``` link that appears.\n",
    "- Select the Inbound Rules node. Can you spot anything unusual that might be related to the ncat backdoor that was installed?\n",
    "![image](../images/lab4/inbound.png) [image](../images/lab4/inbound.png)\n",
    "- What is the name of the firewall rule associated with the trojan?\n",
    "    - ncat\n",
    "    - netcat\n",
    "    - PuTTY\n",
    "    - Service Port [image](../images/lab4/pic21.png)\n",
    "    - Rule 42\n",
    "- Disable the rule added by the Trojan by right-clicking it and selecting Disable Rule.\n",
    "- Confirm that the firewall blocks connections over port 4450.\n",
    "- Confirm that you have deleted the ini.vbs file.\n",
    "- Confirm that the malware has been removed by verifying that ncat.exe is no longer running in the process list.\n"
   ]
  },
  {
   "cell_type": "markdown",
   "metadata": {},
   "source": []
  },
  {
   "cell_type": "markdown",
   "metadata": {},
   "source": [
    "![image](../images/lab4/q1.png)\n",
    "![image](../images/lab4/q2.png)\n",
    "![image](../images/lab4/q3.png)"
   ]
  }
 ],
 "metadata": {
  "language_info": {
   "name": "python"
  },
  "orig_nbformat": 4
 },
 "nbformat": 4,
 "nbformat_minor": 2
}
