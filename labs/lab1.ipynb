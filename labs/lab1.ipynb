{
 "cells": [
  {
   "cell_type": "markdown",
   "metadata": {},
   "source": [
    "Scenario\n",
    "In this activity, you will use common network tools, such as local commands and the Nmap network mapper, to discover other hosts on the local network. Next, you will conduct a banner grabbing exercise to identify specific services on the hosts. Finally, you will use DNS tools to gather name resolution information."
   ]
  },
  {
   "cell_type": "markdown",
   "metadata": {},
   "source": [
    "##### Class Discussion\n",
    "Identifying local network nodes, hosts , configs, versions\n",
    "ifconfig and ip do the same thing\n",
    "\n",
    "ip route show shows the default gateway\n",
    "\n",
    "arp => address resolution Protocol\n",
    "arp -a\n",
    "\n",
    "netdiscover - scanning a range of ips\n",
    "It goes beyond displaying cached information and actively sends ARP requests to discover live hosts on the network.\n",
    "netdiscover -i eth0 -r ip\n",
    "\n",
    "### nmap\n",
    "host discovery\n",
    "> nmap -sn 10.0.0.1/24\n",
    "\n",
    "scanning hosts between 20-200\n",
    "> nmap 20-200 10.0.0.1/24 \n",
    "\n",
    "scanning top ports \n",
    "> nmap -F 10.0.0.1/24\n",
    "\n",
    "scanning top 1000 ports\n",
    "> nmap --top-ports 1000 10.0.0.1/24\n"
   ]
  },
  {
   "cell_type": "markdown",
   "metadata": {},
   "source": [
    "ip neighbor/ arp -a => to discover other hosts on the network\n",
    "ip route show => default gateway\n",
    "\n",
    "netdiscover to scan a network for other hosts on subnet\n",
    "> netdiscover -i eth0 -r 10.0.1.0/24\n",
    "\n",
    "Discover packet loss in windows\n",
    "> pathping ip"
   ]
  },
  {
   "cell_type": "markdown",
   "metadata": {},
   "source": [
    "Banner grabbing using curl and firefox\n",
    "curl - client for url\n",
    "> curl -s -I 10.0.1.1"
   ]
  },
  {
   "cell_type": "markdown",
   "metadata": {},
   "source": [
    "DNS query\n",
    "using dig\n",
    "> dig -x 10.1.0.254\n",
    "\n",
    "fully qualified domain name\n",
    "> dig +short -x ip\n",
    "\n",
    "display the authoritative DNS server for the namespace\n",
    "> dig soa corp.515support.com\n",
    "\n"
   ]
  },
  {
   "cell_type": "markdown",
   "metadata": {},
   "source": [
    "nslookup ip\n"
   ]
  }
 ],
 "metadata": {
  "language_info": {
   "name": "python"
  },
  "orig_nbformat": 4
 },
 "nbformat": 4,
 "nbformat_minor": 2
}
