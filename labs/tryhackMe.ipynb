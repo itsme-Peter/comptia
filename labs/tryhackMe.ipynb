{
 "cells": [
  {
   "cell_type": "markdown",
   "metadata": {},
   "source": [
    "url directory enumeration using a wordlist\n",
    "> gobuster dir --url http://example.com -w /wordlist\n",
    "> ffuf -w /wordlist -u example.com/FUZZ\n",
    "\n",
    "password cracking using hydra\n",
    "> hydra -l admin -P passlist.txt www.onlineshop.thm http-post-form \"/login:username=^USER^&password=^PASS^:F=incorrect\" -V\n",
    "- -l admin attempts to log in using the username admin\n",
    "- -P passlist.txt specifies the password list to try\n",
    "- www.onlineshop.thm sets the target website\n",
    "- http-post-form indicates that this is an HTTP POST request form\n",
    "- \"/login:username=^USER^&password=^PASS^:F=incorrect\" specifies the shape of the HTTP POST request and how to check if the login credentials are incorrect\n",
    "- V is used for verbose output"
   ]
  },
  {
   "cell_type": "markdown",
   "metadata": {},
   "source": []
  }
 ],
 "metadata": {
  "language_info": {
   "name": "python"
  }
 },
 "nbformat": 4,
 "nbformat_minor": 2
}
