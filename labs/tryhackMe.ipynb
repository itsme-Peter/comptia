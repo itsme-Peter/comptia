{
 "cells": [
  {
   "cell_type": "markdown",
   "metadata": {},
   "source": [
    "url directory enumeration using a wordlist\n",
    "> gobuster dir --url http://example.com -w /wordlist\n",
    "> ffuf -w /wordlist -u example.com/FUZZ\n",
    "\n",
    "password cracking using hydra\n",
    "> hydra -l admin -P passlist.txt www.onlineshop.thm http-post-form \"/login:username=^USER^&password=^PASS^:F=incorrect\" -V\n",
    "- -l admin attempts to log in using the username admin\n",
    "- -P passlist.txt specifies the password list to try\n",
    "- www.onlineshop.thm sets the target website\n",
    "- http-post-form indicates that this is an HTTP POST request form\n",
    "- \"/login:username=^USER^&password=^PASS^:F=incorrect\" specifies the shape of the HTTP POST request and how to check if the login credentials are incorrect\n",
    "- V is used for verbose output"
   ]
  },
  {
   "cell_type": "markdown",
   "metadata": {},
   "source": [
    "finding hidden directories\n",
    "> gobuster -u url -w /wordlist\n",
    "> ffuf -w /wordlist -u url\n",
    "> dirb  \n",
    "dns enumeration\n",
    "> dnsrecon\n",
    "> sublist3r.py\n",
    "\n",
    "getting checksum of a favicon \n",
    "> curl /favicon/path | md5sum -- return favicon checksum\n",
    "> curl url -v -- return source code, framework version\n",
    "\n",
    "favicon DB > https://wiki.owasp.org/index.php/OWASP_favicon_database\n",
    "\n",
    "checking techs, frameworks,cms on a webapp\n",
    "> wappalyzer\n",
    "\n",
    "from the archives\n",
    "> archive.org/web"
   ]
  },
  {
   "cell_type": "markdown",
   "metadata": {},
   "source": [
    "# OSINT \n",
    "store.tryhackme.com\n",
    "store.tryhackme.com\n",
    "\n",
    "google: site:*.domain\n",
    "\n",
    "\n",
    "\n"
   ]
  }
 ],
 "metadata": {
  "language_info": {
   "name": "python"
  }
 },
 "nbformat": 4,
 "nbformat_minor": 2
}
