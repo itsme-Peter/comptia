{
 "cells": [
  {
   "cell_type": "markdown",
   "metadata": {},
   "source": [
    "# Implimenting Public Key Infrastructure\n",
    "Digital certificates and public key infrastructure (PKI) are critical services used to manage identification, authentication, and data confidentiality across most private and public networks. \n",
    "\n",
    "### Objectives\n",
    "- Implement certificates and certificate authorities.\n",
    "- Implement PKI management."
   ]
  },
  {
   "cell_type": "markdown",
   "metadata": {},
   "source": [
    "## Implimenting Certificates and Certificate Authorities\n",
    "\n",
    "A digital certificate is a public assertion of identity, validated by a certificate authority (CA). \n",
    "- Protecting web server communications\n",
    "- Signing messages\n",
    "\n",
    "### Public and Private key usage\n",
    "Public key cryptography solves the problem of distributing encryption keys and Authenticate a message that you send to others.\n",
    "- When u want others to send u confidential messages\n",
    "    - Give them ur public key\n",
    "    - Only u can decrypt the message\n",
    "\n",
    "- When u want to authenticate urself to others\n",
    "    - Create a signature and sign it by encrypting with ur private key\n",
    "    - Others decrypt with ur public key\n",
    "\n",
    "The problem is with knowing whom u communicating with even with secure communications.\n",
    "\n",
    "#### Public Key Infrastructure(PKI) \n",
    "    - Aims to prove that the owners of public are who they say they are.\n",
    "    - Public keys should be attached to digital certificate guranteed by Cerificate Authority(CA)\n",
    "\n",
    "#### Certificate Authorities\n",
    "Entity responsible for issuing and guaranteeing certificates. Private CAs can be set up within an organization for internal communications. Most network operating systems, including Windows Server, have certificate services. \n",
    "- Provide a range of certificate services useful to the community of users serviced by the CA.\n",
    "- Ensure the validity of certificates and the identity of those applying for them (registration).\n",
    "- Establish trust in the CA by users and government and regulatory authorities and enterprises, such as financial institutions.\n",
    "- Manage the servers (repositories) that store and administer the certificates.\n",
    "- Perform key and certificate lifecycle management, notably revoking invalid certificates.\n",
    "\n",
    "#### PKI rust Models\n",
    "Shows how users and different CAs are able to trust one another.\n",
    "- Single CA\n",
    "    Certificates issued by one CA(all users trust it)\n",
    "    - Problems:\n",
    "        - Exposed\n",
    "        - Easily compromised and the PKI collapses\n",
    "\n",
    "- Hierarchical (Intermediate CA)\n",
    "    A single CA (called the root) issues certificates to several intermediate CAs. The intermediate CAs issue certificates to subjects (leaf or end entities).\n",
    "    Certificate chaining(Chain of trust) - Each leaf certificate can be traced back to the root CA along the certification path.\n",
    "    \n",
    "    Advantage:\n",
    "    -  Different intermediate CAs can be set up with different certificate policies, enabling users to perceive clearly what a particular certificate is designed for.\n",
    "    The root is still a single point of failure\n",
    "    - If the root is damaged or compromised, the whole structure collapses. \n",
    "    - \n",
    "    \n",
    "        "
   ]
  }
 ],
 "metadata": {
  "kernelspec": {
   "display_name": "Python 3",
   "language": "python",
   "name": "python3"
  },
  "language_info": {
   "name": "python",
   "version": "3.10.11"
  }
 },
 "nbformat": 4,
 "nbformat_minor": 2
}
