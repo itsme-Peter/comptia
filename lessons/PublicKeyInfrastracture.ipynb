{
 "cells": [
  {
   "cell_type": "markdown",
   "metadata": {},
   "source": [
    "# Implimenting Public Key Infrastructure\n",
    "Digital certificates and public key infrastructure (PKI) are critical services used to manage identification, authentication, and data confidentiality across most private and public networks. \n",
    "\n",
    "### Objectives\n",
    "- Implement certificates and certificate authorities.\n",
    "- Implement PKI management."
   ]
  },
  {
   "cell_type": "markdown",
   "metadata": {},
   "source": [
    "## Implimenting Certificates and Certificate Authorities\n",
    "\n",
    "A digital certificate is a public assertion of identity, validated by a certificate authority (CA). \n",
    "- Protecting web server communications\n",
    "- Signing messages\n",
    "\n",
    "### Public and Private key usage\n",
    "Public key cryptography solves the problem of distributing encryption keys and Authenticate a message that you send to others.\n",
    "- When u want others to send u confidential messages\n",
    "    - Give them ur public key\n",
    "    - Only u can decrypt the message\n",
    "\n",
    "- When u want to authenticate urself to others\n",
    "    - Create a signature and sign it by encrypting with ur private key\n",
    "    - Others decrypt with ur public key\n",
    "\n",
    "The problem is with knowing whom u communicating with even with secure communications.\n",
    "\n",
    "#### Public Key Infrastructure(PKI) \n",
    "    - Aims to prove that the owners of public are who they say they are.\n",
    "    - Public keys should be attached to digital certificate guranteed by Cerificate Authority(CA)"
   ]
  }
 ],
 "metadata": {
  "kernelspec": {
   "display_name": "Python 3",
   "language": "python",
   "name": "python3"
  },
  "language_info": {
   "name": "python",
   "version": "3.10.11"
  }
 },
 "nbformat": 4,
 "nbformat_minor": 2
}
